{
 "cells": [
  {
   "cell_type": "code",
   "execution_count": 1,
   "id": "fa629038",
   "metadata": {},
   "outputs": [],
   "source": [
    "#Import liberaries\n",
    "from selenium import webdriver\n",
    "from bs4 import BeautifulSoup\n",
    "import pandas as pd\n",
    "import string\n",
    "import time"
   ]
  },
  {
   "cell_type": "code",
   "execution_count": 2,
   "id": "945cccdf",
   "metadata": {},
   "outputs": [
    {
     "data": {
      "text/plain": [
       "'abcdefghijklmnopqrstuvwxyz'"
      ]
     },
     "execution_count": 2,
     "metadata": {},
     "output_type": "execute_result"
    }
   ],
   "source": [
    "string.ascii_lowercase[:26]"
   ]
  },
  {
   "cell_type": "code",
   "execution_count": 3,
   "id": "59ef3a48",
   "metadata": {
    "scrolled": false
   },
   "outputs": [
    {
     "name": "stdout",
     "output_type": "stream",
     "text": [
      "{'A': ['A Abbas, Mahmoud - Abad, Lilibeth', 'Abad, Lillian - Abbadessa, John', 'Abbadessa, Joline - Abbuhl, Nuckol', 'Abbuhl, Pamela - Abdizadeh, Abbas', 'Abdizadeh, Amir - Abdurrazzaq, Yvette', 'Abdurrazzaqq, Jeremiah - Abend, Johnp', 'Abend, Jon - Abila, Karen', 'Abila, Katelyn - Aboody, Cynhtia', 'Aboody, Daniella - Abrahamsson, Alan', 'Abrahamsson, Anders - Abreu, Lianette', 'Abreu, Liannys - Abuchaibe, Elvira', 'Abuchaibe, Emilia - Accamando, Jessica', 'Accamando, Jody - Acey, Zachary', 'Acey, Zakiya - Acker, Shelia', 'Acker, Shelley - Acosta, Efram', 'Acosta, Efrem - Acurio, Sugey', 'Acurio, Tomasa - Adamo, Jacqelynn', 'Adamo, Jacqueline - Adams, Rebella', 'Adams, Rebernet - Adcock, Salene', 'Adcock, Sallie - Adedokun, Joy', 'Adedokun, Karen - Adeshina, Angela', 'Adeshina, Annette - Adkins, Kirkland', 'Adkins, Kirklen - Adornato Bearman, Stephanie', 'Adornatomitzak, Christi - Aellig, Christian', 'Aellig, Dale - Afrin, Faharia', 'Afrin, Fahmida - Agbemaple, Frank', 'Agbemaple, Fred - Aglano, Alma', 'Aglanta, Natalie - Agrawal, Apoorva', 'Agrawal, April - Aguila, Maria', 'Aguila, Mariachona - Aguirre, Ahliea', 'Aguirre, Ahnee - Aharris, Brenda', 'Aharris, Bruce - Ahmad, Martins', 'Ahmad, Maruf - Ahnquist, David', 'Ahnquist, Douglas - Aifaro, Arichard', 'Aifaro, Aureliano - Aira, Lias', 'Aira, Luis - Ajiboye, Mike', 'Ajiboye, Monica - Akemon, Reed', 'Akemon, Rhonda - Akinkuowo, Joyce', 'Akinkuowo, Kolawole - Akrawi, Arnesto', 'Akrawi, Ashur - Ala, Judy', 'Ala, Jules - Alamo, Joni', 'Alamo, Jorge - Alatorne, Maria', 'Alatorr, Richard - Albarran, Guadelupe', 'Albarran, Gudanace - Alberto, Jasmine', 'Alberto, Jason - Albright, Lenn', 'Albright, Lenora - Alcazar, Julie', 'Alcazar, Juliet - Aldaz, Arturo', 'Aldaz, Ascencion - Aldridge, Mamie', 'Aldridge, Mandi - Aleman, Gavino', 'Aleman, Gayle - Alexander, Azul', 'Alexander, Azzid - Alexandre, Vita', 'Alexandre, Vital - Alfonso, Adeline', 'Alfonso, Adelta - Algiere, Brooke', 'Algiere, Bruce - Ali, Shalom', 'Ali, Shalreh - Alinder, Erik', 'Alinder, Gary - Alkhouri, Sanaa', 'Alkhouri, Seif - Alldredge, Dallin', 'Alldredge, Dalton - Allen, Justen', 'Allen, Justena - Allenegui, Jesse', 'Allenegui, John - Allio, Rachel', 'Allio, Randall - Allschwang, Jay', 'Allschwang, Karen - Almaraz, Erasto', 'Almaraz, Erendira - Almodovarjr, Wilfredo', 'Almodovarmartinez, Sonia - Alomonte, Rael', 'Alomor, Ghada - Alqahtani, Ragea', 'Alqahtani, Rashed - Alsleben, Wanda', 'Alsleben, Wayne - Altararwa, Khalifa', 'Altararwa, Nawas - Altman, Dave', 'Altman, Daveste - Alvarado, Adriene', 'Alvarado, Adrienne - Alvarez, Marcie', 'Alvarez, Marcila - Alvillar, Ignacio', 'Alvillar, Illissa - Amacor, Maria', 'Amacoska, Jill - Amaral, Ken', 'Amaral, Kendra - Ambeis, Dieshelle', 'Ambek, Rebecca - Amburn, Denise', 'Amburn, Dennis - Amerson, Lavon', 'Amerson, Lavonn - Amin, Mita', 'Amin, Mitaben - Ammon, Dee', 'Ammon, Delores - Amos, Tariq', 'Amos, Tarisa - Amurao, Jason', 'Amurao, Jayne - Anastasi, Alfio', 'Anastasi, Alice - Andam, Seth', 'Andam, Teodoro - Anderson, Cat', 'Anderson, Catali - Anderson, Orbelina', 'Anderson, Orbelino - Andis, Emory', 'Andis, Eric - Andreano, Mi', 'Andreano, Michael - Andrews, Brawley', 'Andrews, Braxton - Andronikidis, Kennedy', 'Andronikidis, Konstantinos - Ang, Fredrick', 'Ang, Fuisiong - Angelo, Georganna', 'Angelo, George - Angoli, Lisa', 'Angoli, Louis - Anis, Alice', 'Anis, Aliya - Annandale, Thomas', 'Annandale, Valjeane - Anquoe, Cressy', 'Anquoe, Dana - Antayhua, Patrica', 'Antayhua, Raul - Antinarella Alfieri, Michelle', 'Antinarelli, Aida - Antonietti, Sara', 'Antonietti, Sherril - Antzoulatos, Theresa', 'Antzouletos, Persefoni - Aova, Andrea', 'Aova, Guiellarmo - Apodaca, Orchid', 'Apodaca, Orlando - Apple, Chamberlian', 'Apple, Chandler - Apuan, Yolanda', 'Apuan, Yvonne - Aragon, Ginamaria', 'Aragon, Ginerlin - Arandules, Alvaro', 'Arandules, Annette - Arbaszewski, Alicia', 'Arbaszewski, Edmund - Arcena, Carlos', 'Arcena, Cesar - Archiquette, Lisa', 'Archiquette, Lori - Ardis, Eric', 'Ardis, Erica - Arena, Francesca', 'Arena, Francesco - Arft, Marc', 'Arft, Mark - Argyrides, Marios', 'Argyrides, Mary - Arioto, Valerie', 'Arioto, Virginia - Arledge, Lynda', 'Arledge, Lynn - Armendariz, Melody', 'Armendariz, Melquiades - Armoza, Jonathan', 'Armoza, Marcela - Arnaud, Margarita', 'Arnaud, Maria - Arnold, Kamario', 'Arnold, Kamarr - Aronald, Eric', 'Aronald, Jason - Arrayo, Maureen', 'Arrayo, Michele - Arrington, Carlos', 'Arrington, Carlt - Arsanjani, Fatemeh', 'Arsanjani, Foroud - Arthur, Jonicka', 'Arthur, Jonnie - Arumugam, Manikandan', 'Arumugam, Manimozhiya - Arzouni, Faouzi', 'Arzouni, Gabriel - Ascanio, Lucianna', 'Ascanio, Luis - Ash, Kadesia', 'Ash, Kadija - Ashfaq, Tabinda', 'Ashfaq, Tahira - Ashraf, Zaheer', 'Ashraf, Zahid - Askin, Mike', 'Askin, Miranda - Asprec, Glen', 'Asprec, Greffin - Asti, Gianina', 'Asti, Gordon - Atanasova, Hristiyaniya', 'Atanasova, Iliyana - Athey, Catrina', 'Athey, Cecil - Atkinson, Nena', 'Atkinson, Nerene - Atterberry, Corey', 'Atterberry, Corliss - Aube, Doreen', 'Aube, Doris - Audwin, Brisard', 'Audwin, Gregory - Augustin, Paul Richard', 'Augustin, Paula - Auman, Terri', 'Auman, Terry - Aussant, George', 'Aussant, James - Auth, Naomi', 'Auth, Natalie - Avans, Thomasina', 'Avans, Tiffany - Averett, Robert', 'Averett, Robin - Avila, Percida', 'Avila, Percy - Avruch, Simcha', 'Avruch, Steven - Axell, Louis', 'Axell, Luann - Ayatch, April', 'Ayatch, Darryl - Aylwin, Rufus', 'Aylwin, Sandels - Azam, Abu', 'Azam, Abubaker - Azizironagh, Masoumeh', 'Azizis, Naddia - Azzyri, Tiffany'], 'B': ['B Andrea, Karly - Babila, Joseph', 'Babila, Joshua - Bachan, Ragindra', 'Bachan, Rajendra - Bacom, Deborah', 'Bacom, Edward - Badillo, S', 'Badillo, Sabas - Baeza, Letasha', 'Baeza, Leticia - Bagshaw, Jeanette', 'Bagshaw, Jeanine - Baig, Masrook', 'Baig, Massoud - Bain, Dakota', 'Bain, Dale - Bajzer, Matej', 'Bajzer, Michael - Bakhoum, Patricia', 'Bakhoum, Paul - Balash, Tabatha', 'Balash, Taina - Baldini, Allyssa', 'Baldini, Alyssa - Baliatico, Anthony', 'Baliatico, Carol - Ballard, Terry', 'Ballard, Tesha - Balmuth, Jason', 'Balmuth, Jeremy - Baly, Renee', 'Baly, Reynold - Bandekar, Vijayeta', 'Bandekar, Vikrant - Banik, Wendy', 'Banik, William - Banning, Dillon', 'Banning, Dina - Baptsis, Renee', 'Baptsiste, Steven - Barba, Gail', 'Barba, Garciela - Barbo, Matilda', 'Barbo, Matt - Bardell, Jordan', 'Bardell, Joseph - Bargery, Justin', 'Bargery, K - Barkhurst, Jarod', 'Barkhurst, Jason - Barnedt, Forest', 'Barnedt, Jessica - Barney, Kennethe', 'Barney, Kenny - Barr, Casity', 'Barr, Cassandera - Barreto, Adalgisa', 'Barreto, Adam - Barriosherrera, Martha', 'Barriosjr, Arquimedes - Barsoum, Megad', 'Barsoum, Mena - Bartkus, David', 'Bartkus, Dawn - Bartow, Cecile', 'Bartow, Charles - Base, Caroline', 'Base, Casey - Basmakoski, Chris', 'Basmal, Hana - Bastian, Thom', 'Bastian, Thomas - Bates, Kamela', 'Bates, Kamerin - Batt, Russel', 'Batt, Russell - Baty, Jannaeah', 'Baty, Jared - Baum, Wynona', 'Baum, Yaakov - Bautz, Lauren', 'Bautz, Laurna - Bayless, Hannah', 'Bayless, Harley - Bazitya, R', 'Baziuk, Annalyse - Beall, Doyle', 'Beall, Drew - Bearg, Larry', 'Bearg, Lawrence - Beaudet, Chelsea', 'Beaudet, Chelsy - Becca, Zahira', 'Becca, Zury - Beckerman, Amy', 'Beckerman, Andrea - Beddia, Joseph', 'Beddia, Josephine - Beech, Takila', 'Beech, Talitha - Beever, Wyatt', 'Beever, Zachary - Behlmann, Brian', 'Behlmann, Brittany - Beirkortte, Linslee', 'Beirl, Amber - Belay, Tsedeny', 'Belay, Tsegaw - Belitz, Chris', 'Belitz, Christina - Bellamy, Ac', 'Bellamy, Acacia - Belliveau, Ashley', 'Belliveau, Audrey - Belsches, Philippa', 'Belsches, Ronald - Bempah, Jason', 'Bempah, Jemina - Bender, Andrianna', 'Bender, Andy - Benfield, Joyanne', 'Benfield, Joyce - Benjamin, Taryn', 'Benjamin, Tasha - Bennette, Maggie', 'Bennette, Magnus - Bensur, Sarena', 'Bensur, Sophie - Benzon, Nick', 'Benzon, Noemi - Berenson, Andrew', 'Berenson, Anita - Berggren, Jody', 'Berggren, Joe - Berkebile, Aimee', 'Berkebile, Alan - Bermudez, Marcus', 'Bermudez, Marcy - Bernelov, Annika', 'Bernelov, Elsa - Berring, Fredicia', 'Berring, Gershoma - Bertea, Bruce', 'Bertea, Christina - Berverly, Michael', 'Berverly, Robinson - Best, Clemustine', 'Best, Cleo - Betker, Lela', 'Betker, Leonard - Beun, Melissa', 'Beun, Michael - Beyer, Ethan', 'Beyer, Ethel - Bhasker, Andrew', 'Bhasker, Anil - Biancaniello, Anthony', 'Biancaniello, Antonio - Bickers, Stellina', 'Bickers, Stephanie - Biehler, Suzanne', 'Biehler, Tajah - Biesen, Katherine', 'Biesen, Kathleen - Bihlmeler, Selene', 'Bihlmeyer, Alexander - Billette, Raymond', 'Billette, Richard - Bilunes, Ty', 'Bilung, Gadreal - Binni, Nathan', 'Binni, Noemi - Birenbaum, James', 'Birenbaum, Jan - Biscardi, Andrew', 'Biscardi, Angela - Bisset, Blake', 'Bisset, Bobbie - Bivens, Quintin', 'Bivens, Quinton - Black, Glen', 'Black, Glen R - Blackner, Boswell', 'Blackner, Brad - Blair, Danilo', 'Blair, Danin - Blalock, Candis', 'Blalock, Candy - Blange, Alton', 'Blange, Joseph - Blaskey, Adam', 'Blaskey, Adrienna - Blechschmid, Fred', 'Blechschmid, Harry - Blickhan, Carlene', 'Blickhan, Charles - Blohowiak, Charles', 'Blohowiak, Christine - Blount, Jeramiah', 'Blount, Jeramie - Blundell, Andrew', 'Blundell, Angela - Boatwright, Ana', 'Boatwright, Anastasia - Boccasino, Kira', 'Boccasino, Marie - Bodenhamer, Linville', 'Bodenhamer, Lisa - Boehm, Sherri', 'Boehm, Sherrie - Bogalle, Tariku', 'Bogallo, Angela - Bogseth, Marvin', 'Bogseth, Mary - Bohrer Clancy, Jesse', 'Bohrer Clancy, Michael - Boland, Trudy', 'Boland, Trueblood - Bolich, Peggy', 'Bolich, Polly - Bolson, Chase', 'Bolson, Cherie - Bonafe, Carlos', 'Bonafe, Carmen - Bone, Sondra', 'Bone, Sonia - Bonillo, Fred', 'Bonillo, Gerardo - Bonser, Tianna', 'Bonser, Tierra - Bools, Richard', 'Bools, Terry - Boozer, Kara', 'Boozer, Kareem - Bordoy, Luis', 'Bordoy, Luz - Borisova, Moura', 'Borisova, Nadeznda - Borowy, Marie', 'Borowy, Marilyn - Boryd, Lalisa', 'Boryd, Rosanna - Boss, Allyson', 'Boss, Alma - Botchwey, Niara', 'Botchwey, Nisha - Botzan, Tina', 'Botzaritch, Michael - Boukaid, Fouad', 'Boukaidbey, Bahij - Bourg, Roger', 'Bourg, Ronald - Boutwell, Allison', 'Boutwell, Allyson - Bowen, Seneca', 'Bowen, Senice - Bowling, Odes', 'Bowling, Ola - Boycefisk, Stephanie', 'Boycefrazier, Jodi - Boykins, Herbert', 'Boykins, Herman - Braaksma, Dean', 'Braaksma, Deborah - Bradberry, Meggie', 'Bradberry, Meghan - Bradley Mcbeth, Anna', 'Bradley Mccoy, Sharon - Brahmbhatt, Arun', 'Brahmbhatt, Aruna - Branam, Brooke', 'Branam, Brooklyn - Brandon, Malike', 'Brandon, Malinda - Branske, Jason', 'Branske, Jaymie - Brassfield, Wanda', 'Brassfield, Warren - Braunwart, Alixandra', 'Braunwart, Andrew - Brazil, Bernadette', 'Brazil, Bernard - Bree, Aileen', 'Bree, Alanna - Breitman, Bonnie', 'Breitman, Bruce - Brenner, Kendra', 'Brenner, Kenneth - Bretz, Herman', 'Bretz, Hilary - Brian, Orcutt', 'Brian, Orender - Bridges, Pamesha', 'Bridges, Panney - Bright, Torrey', 'Bright, Torris - Bringman, Elsie', 'Bringman, Emily - Briseno, Aracely', 'Briseno, Arcelia - Britto, Darnell', 'Britto, Darren - Broce, V', 'Broce, Velna - Brodie, Chris', 'Brodie, Christaly - Bromberg, Eli', 'Bromberg, Eliezer - Brooks, Bernadine', 'Brooks, Bernandi - Broselle, Carl', 'Broselle, Dalton - Broussard, Louisette', 'Broussard, Loumis - Brown, Esaias', 'Brown, Esall - Brown, Rodquavian', 'Brown, Rodra - Browning, Khrystin', 'Browning, Ki - Bruckback, Josef', 'Bruckback, Peter - Brumberg, Marcia', 'Brumberg, Mark - Bruninga, Shawna', 'Bruninga, Sheryl - Brusse, Deborah', 'Brusse, Denny - Bryant, Rhonald', 'Bryant, Rhonda - Bubacz, Janet', 'Bubacz, Jessica - Buchheim, Rogene', 'Buchheim, Ronald - Buckley, Bakari', 'Buckley, Bambi - Budhram, Choolowtie', 'Budhram, Christopher - Bueno, Delfina', 'Bueno, Delfino - Bugenhagen, Jay', 'Bugenhagen, Jeffery - Bukhres, Omran', 'Bukhres, Salem - Bullis, Todd', 'Bullis, Tommy - Bunce, Neal', 'Bunce, Nellie - Buntlage, Laura', 'Buntley, Adam - Burcher, Phyllis', 'Burcher, Rachel - Burg, Hahns', 'Burg, Hal - Burgos, Toni', 'Burgos, Tonie - Burkhammer, Dawna', 'Burkhammer, Dean - Burmood, Kristi', 'Burmood, Kristie - Burns, Mydella', 'Burns, Mye - Burroughs, Edward', 'Burroughs, Edwin - Burton, Mayes', 'Burton, Mayfield - Busey, Jasmin', 'Busey, Jason - Bussard, Michele', 'Bussard, Michelle - Butensky, Samuel', 'Butensky, Sanford - Buttacavoli, John', 'Buttacavoli, Jordan - Buyten, Jesse', 'Buyten, Jobeth - Bykwerk, Jeannine', 'Bykzynski, Laura - Byron, Shareme', 'Byron, Shari - Bzzell, Chris'], 'C': ['C Abraham, George - Cabey, Nicole', 'Cabey, Norine - Cacace, Samantha', 'Cacace, Sandra - Cadet, Karold', 'Cadet, Karvens - Cager, U', 'Cager, Valerie - Cain, Piper', 'Cain, Pj - Calander, Rose', 'Calander, Ryan - Calderwood, Tracy', 'Calderwood, Travis - Caliboso, Marcello', 'Caliboso, Marcelo - Callands, Hortense', 'Callands, Isaiah - Calloway, Yoko', 'Calloway, Yoland - Calvo, Lupe', 'Calvo, Luz - Camberis, Cynthia', 'Camberis, Dean - Caminiti, Riley', 'Caminiti, Robert - Campbell, Diana', 'Campbell, Dianah - Campitelli, Gianna', 'Campitelli, Giavanna - Canal, Carlos', 'Canal, Carmela - Candemeres, Matthew', 'Candemeres, Michael - Canizzaro, Gregory', 'Canizzaro, Jessica - Canole, Damian', 'Canole, David - Cantrell, Lydia', 'Cantrell, Lyle - Capayachi, Rodolfo', 'Capayachi, Teofila - Capocci, Cassandra', 'Capocci, Catherine - Capriolo, Julie', 'Capriolo, Kathleen - Carapezza, Philip', 'Carapezza, Randi - Carcia, Darla', 'Carcia, David - Cardona, Belinda', 'Cardona, Belkis - Cargas, Morgan', 'Cargas, Nickolaus - Carleton, Gayle', 'Carleton, Gene - Carlson, Susan', 'Carlson, Susanj - Carmona, Marnie', 'Carmona, Marquez - Carola, Joanne', 'Carola, John - Carpino, Jane', 'Carpino, Janet - Carrasquillo, Hilda', 'Carrasquillo, Hipolita - Carrigan, Mari', 'Carrigan, Maria - Carroll, Pretoria', 'Carroll, Prezonia - Carte, Donna', 'Carte, Dora - Carter, Vernell', 'Carter, Vernelle - Carvalho, Nick', 'Carvalho, Nickolos - Casares, Patricio', 'Casares, Patrick - Casey, Jonikka', 'Casey, Jonmarion - Caslib, Reden', 'Caslib, Richard - Cassetta, Allie', 'Cassetta, Allison - Castanon, Presious', 'Castanon, Prezelda - Castille, Brock', 'Castille, Brooke - Casto, Nanette', 'Casto, Natalia - Casupang, Lyndon', 'Casupang, Marc - Catevenis, Katherine', 'Catevenis, Laura - Catti, Robert', 'Catti, Ronald - Cauthan, Donald', 'Cauthan, Georjan - Caver, Henry', 'Caver, Hentrica - Cazad, Gary', 'Cazad, Ginger - Cechnicki, Timothy', 'Cechnowski, Jack - Celebi, Mehmat', 'Celebi, Mehmet - Ceniti, Cody', 'Ceniti, Colleen - Cerda, Lorenzo', 'Cerda, Loretta - Certeza, Adelbert', 'Certeza, Alan - Cetinian, George', 'Cetinic, Maria - Chadek, Adam', 'Chadek, Alexandria - Chairez, Soto', 'Chairez, Stacy - Cham, Papa', 'Cham, Pari - Chamoun, Edy', 'Chamoun, Eli - Chancellor, Lona', 'Chancellor, Loni - Chang, Bess', 'Chang, Bessie - Chanti, Joseph', 'Chanti, Karen - Chapman, Trischa', 'Chapman, Trish - Charland, Derek', 'Charland, Derrick - Charnock, Alexis', 'Charnock, Alicia - Chastine, Kyle', 'Chastine, Lajiana - Chaudry, Issac', 'Chaudry, Iza - Chavez, Sinai', 'Chavez, Sinat - Chebbi, Yasmin', 'Chebbin, Rachel - Chelini, Brandon', 'Chelini, Brock - Chenault, Hayden', 'Chenault, Hayley - Cherie, Theodore', 'Cherie, Thomas - Cheryl, Laird', 'Cheryl, Lambert - Cheung, Jimmie', 'Cheung, Jimmy - Chiago, Xavier', 'Chiago Pedro, Nancy - Chidiac, Nick', 'Chidiac, Nidal - Childs, Talisa', 'Childs, Talisha - Chini, Joshua', 'Chini, Julia - Chischilly, Kevin', 'Chischilly, Kirby - Chizzick, Lynne', 'Chizzick, Michelle - Choi, Heungsoo', 'Choi, Heunjung - Chopot, Anthony', 'Chopot, Hannah - Chowaniec, Charlene', 'Chowaniec, Chester - Christense, Tony', 'Christense, Ty - Christine, Santaigo', 'Christine, Santarelli - Chronis, Anthoula', 'Chronis, Antonia - Chuk, Karma', 'Chuk, Kathleen - Church, Keith', 'Church, Kelby - Cianflone, Shannon', 'Cianflone, Sherri - Cicorelli, Malia', 'Cicorelli, Martha - Cima, Dawn', 'Cima, Deborah - Ciolli, Terri', 'Ciolli, Theresa - Ciskowski, Joy', 'Ciskowski, Joyce - Claasen, Cynthia', 'Claasen, Dale - Claps, Vanessa', 'Claps, Victor - Clark, Nikeisha', 'Clark, Nikel - Clash, Ruthie', 'Clash, Sandra - Clay, Cxlementte', 'Clay, Cybil - Cleavenger, Laura', 'Cleavenger, Lautisha - Clemm, Maurre', 'Clemm, Meghan - Clever, Michele', 'Clever, Michelle - Clingingsmith, Michelle', 'Clingingsmith, Molly - Clostio, Sean', 'Clostio, Shannon - Cluskey, Edward', 'Cluskey, Ellen - Coats, Gentry', 'Coats, Geoffrey - Cobran, Anna Kay', 'Cobran, Aretha - Cockrell, Lauramae', 'Cockrell, Laurel - Coeur, Jean', 'Coeur, Jeanmichel - Coggins, Kennedy', 'Coggins, Kenneth - Coit, Ethan', 'Coit, Eugene - Colbert, Naiima', 'Colbert, Nakeyia - Coleburg, Charlotte', 'Coleburg, Kevin - Coles, Karmen', 'Coles, Karol - Collazo, Miranda', 'Collazo, Mireles - Collins, Black', 'Collins, Blackie - Collum, Leah', 'Collum, Leanne - Coloske, Steven', 'Coloske, Taylor - Colyer, Heather', 'Colyer, Heidi - Comis, Cathy', 'Comis, Celestino - Conable, Justin', 'Conable, Katharine - Condra, Phyllis', 'Condra, Piper - Conklin, Makaela', 'Conklin, Makayla - Conner, Natasha', 'Conner, Natatyana - Conrath, Gail', 'Conrath, Gary - Contente, Rick', 'Contente, Robert - Conwell, Franci', 'Conwell, Francis - Cooke, Tangie', 'Cooke, Tania - Coons, Aron', 'Coons, Arquita - Coorssen, Margaret', 'Coorssen, Mark - Coppedge, Jerrie', 'Coppedge, Jerry - Corbin, Danny', 'Corbin, Dante - Cordier, Sandra', 'Cordier, Sasha - Corimes, Katie', 'Corimes, Sabrina - Cornelio, Jazmin', 'Cornelio, Jeamshia - Corona, Citlallic', 'Corona, Clady - Correa, Vincenzo', 'Correa, Vincete - Cortes, Charlotte', 'Cortes, Charmaine - Coryn, Lillian', 'Coryn, Lucy - Cossick, Shirley', 'Cossick, Susan - Costopoulos, Leticia', 'Costopoulos, Levi - Cottle, Dayna', 'Cottle, Dean - Couillard, Brianna', 'Couillard, Bridgette - Courneya, Jeffrey', 'Courneya, Jennifer - Couto, Matthew', 'Couto, Maudo - Covington, Micha', 'Covington, Michael - Cowper, Jeffrey', 'Cowper, Jenee - Coyote, Susan', 'Coyote, Tara - Crafton, L', 'Crafton, Laafaai - Crampton, Bobbi', 'Crampton, Bonnie - Craun, Natalie', 'Craun, Nathan - Crayne, Carolyn', 'Crayne, Casey - Creem, Russell', 'Creem, Sandra - Cresseveur, Patricia', 'Cresseveur, Paul - Crikelair, Janet', 'Crikelair, Jesse - Crissone, James', 'Crissone, John - Crochiere, Brandon', 'Crochiere, Brian - Cromwell, Caitlin', 'Cromwell, Caitlyn - Crosby, Janay', 'Crosby, Janaya - Croswell, Victor', 'Croswell, Vivian - Crowell, Zeus', 'Crowell, Zili - Crumble, Austin', 'Crumble, Azhurdi - Cruz, Anailton', 'Cruz, Anainez - Crymessmith, Sonya', 'Crymeswashington, Pamela - Cubus, Richard', 'Cubus, Thomas - Cuevas, Eri', 'Cuevas, Eriberto - Culler, Kairi', 'Culler, Kaitlyn - Cumbie, Jennymarie', 'Cumbie, Jeremy - Cunnane, Stefanie', 'Cunnane, Stephanie - Curbelo, Felipe', 'Curbelo, Felix - Currence, Andrea', 'Currence, Andrew - Curtis, Miller', 'Curtis, Millicent - Custodio, Tomas', 'Custodio, Tomasina - Cuzzo, Joann', 'Cuzzo, John - Czajkowski, Nicole', 'Czajkowski, Nicollett - Czzpiewski, Kristi']}\n"
     ]
    }
   ],
   "source": [
    "# Extract all the Name of First 3 Page\n",
    "listofnames = {}\n",
    "for i in string.ascii_lowercase[:3]:\n",
    "    pages = 'https://www.whitepages.com/ind/'+i\n",
    "    driver = webdriver.Chrome('chromedriver')\n",
    "    driver.get(pages)\n",
    "    content = driver.page_source\n",
    "    soup = BeautifulSoup(content)\n",
    "    names_list = soup.findAll('a',{\"class\": \"primary--text link-text body-2 fw-r\"})\n",
    "    l = [x.text.strip() for x in names_list]\n",
    "    listofnames[i.upper()] = l\n",
    "print(listofnames)"
   ]
  },
  {
   "cell_type": "code",
   "execution_count": 8,
   "id": "50680b38",
   "metadata": {},
   "outputs": [],
   "source": [
    "# Place None to maintain Same Length of array\n",
    "df = pd.DataFrame.from_dict(listofnames, orient='index')"
   ]
  },
  {
   "cell_type": "code",
   "execution_count": 11,
   "id": "55d7a9d3",
   "metadata": {},
   "outputs": [],
   "source": [
    "df= df.transpose()"
   ]
  },
  {
   "cell_type": "code",
   "execution_count": 13,
   "id": "0ece53c4",
   "metadata": {},
   "outputs": [
    {
     "data": {
      "text/html": [
       "<div>\n",
       "<style scoped>\n",
       "    .dataframe tbody tr th:only-of-type {\n",
       "        vertical-align: middle;\n",
       "    }\n",
       "\n",
       "    .dataframe tbody tr th {\n",
       "        vertical-align: top;\n",
       "    }\n",
       "\n",
       "    .dataframe thead th {\n",
       "        text-align: right;\n",
       "    }\n",
       "</style>\n",
       "<table border=\"1\" class=\"dataframe\">\n",
       "  <thead>\n",
       "    <tr style=\"text-align: right;\">\n",
       "      <th></th>\n",
       "      <th>A</th>\n",
       "      <th>B</th>\n",
       "      <th>C</th>\n",
       "    </tr>\n",
       "  </thead>\n",
       "  <tbody>\n",
       "    <tr>\n",
       "      <th>0</th>\n",
       "      <td>A Abbas, Mahmoud - Abad, Lilibeth</td>\n",
       "      <td>B Andrea, Karly - Babila, Joseph</td>\n",
       "      <td>C Abraham, George - Cabey, Nicole</td>\n",
       "    </tr>\n",
       "    <tr>\n",
       "      <th>1</th>\n",
       "      <td>Abad, Lillian - Abbadessa, John</td>\n",
       "      <td>Babila, Joshua - Bachan, Ragindra</td>\n",
       "      <td>Cabey, Norine - Cacace, Samantha</td>\n",
       "    </tr>\n",
       "    <tr>\n",
       "      <th>2</th>\n",
       "      <td>Abbadessa, Joline - Abbuhl, Nuckol</td>\n",
       "      <td>Bachan, Rajendra - Bacom, Deborah</td>\n",
       "      <td>Cacace, Sandra - Cadet, Karold</td>\n",
       "    </tr>\n",
       "    <tr>\n",
       "      <th>3</th>\n",
       "      <td>Abbuhl, Pamela - Abdizadeh, Abbas</td>\n",
       "      <td>Bacom, Edward - Badillo, S</td>\n",
       "      <td>Cadet, Karvens - Cager, U</td>\n",
       "    </tr>\n",
       "    <tr>\n",
       "      <th>4</th>\n",
       "      <td>Abdizadeh, Amir - Abdurrazzaq, Yvette</td>\n",
       "      <td>Badillo, Sabas - Baeza, Letasha</td>\n",
       "      <td>Cager, Valerie - Cain, Piper</td>\n",
       "    </tr>\n",
       "    <tr>\n",
       "      <th>5</th>\n",
       "      <td>Abdurrazzaqq, Jeremiah - Abend, Johnp</td>\n",
       "      <td>Baeza, Leticia - Bagshaw, Jeanette</td>\n",
       "      <td>Cain, Pj - Calander, Rose</td>\n",
       "    </tr>\n",
       "    <tr>\n",
       "      <th>6</th>\n",
       "      <td>Abend, Jon - Abila, Karen</td>\n",
       "      <td>Bagshaw, Jeanine - Baig, Masrook</td>\n",
       "      <td>Calander, Ryan - Calderwood, Tracy</td>\n",
       "    </tr>\n",
       "    <tr>\n",
       "      <th>7</th>\n",
       "      <td>Abila, Katelyn - Aboody, Cynhtia</td>\n",
       "      <td>Baig, Massoud - Bain, Dakota</td>\n",
       "      <td>Calderwood, Travis - Caliboso, Marcello</td>\n",
       "    </tr>\n",
       "    <tr>\n",
       "      <th>8</th>\n",
       "      <td>Aboody, Daniella - Abrahamsson, Alan</td>\n",
       "      <td>Bain, Dale - Bajzer, Matej</td>\n",
       "      <td>Caliboso, Marcelo - Callands, Hortense</td>\n",
       "    </tr>\n",
       "    <tr>\n",
       "      <th>9</th>\n",
       "      <td>Abrahamsson, Anders - Abreu, Lianette</td>\n",
       "      <td>Bajzer, Michael - Bakhoum, Patricia</td>\n",
       "      <td>Callands, Isaiah - Calloway, Yoko</td>\n",
       "    </tr>\n",
       "  </tbody>\n",
       "</table>\n",
       "</div>"
      ],
      "text/plain": [
       "                                       A                                    B  \\\n",
       "0      A Abbas, Mahmoud - Abad, Lilibeth     B Andrea, Karly - Babila, Joseph   \n",
       "1        Abad, Lillian - Abbadessa, John    Babila, Joshua - Bachan, Ragindra   \n",
       "2     Abbadessa, Joline - Abbuhl, Nuckol    Bachan, Rajendra - Bacom, Deborah   \n",
       "3      Abbuhl, Pamela - Abdizadeh, Abbas           Bacom, Edward - Badillo, S   \n",
       "4  Abdizadeh, Amir - Abdurrazzaq, Yvette      Badillo, Sabas - Baeza, Letasha   \n",
       "5  Abdurrazzaqq, Jeremiah - Abend, Johnp   Baeza, Leticia - Bagshaw, Jeanette   \n",
       "6              Abend, Jon - Abila, Karen     Bagshaw, Jeanine - Baig, Masrook   \n",
       "7       Abila, Katelyn - Aboody, Cynhtia         Baig, Massoud - Bain, Dakota   \n",
       "8   Aboody, Daniella - Abrahamsson, Alan           Bain, Dale - Bajzer, Matej   \n",
       "9  Abrahamsson, Anders - Abreu, Lianette  Bajzer, Michael - Bakhoum, Patricia   \n",
       "\n",
       "                                         C  \n",
       "0        C Abraham, George - Cabey, Nicole  \n",
       "1         Cabey, Norine - Cacace, Samantha  \n",
       "2           Cacace, Sandra - Cadet, Karold  \n",
       "3                Cadet, Karvens - Cager, U  \n",
       "4             Cager, Valerie - Cain, Piper  \n",
       "5                Cain, Pj - Calander, Rose  \n",
       "6       Calander, Ryan - Calderwood, Tracy  \n",
       "7  Calderwood, Travis - Caliboso, Marcello  \n",
       "8   Caliboso, Marcelo - Callands, Hortense  \n",
       "9        Callands, Isaiah - Calloway, Yoko  "
      ]
     },
     "execution_count": 13,
     "metadata": {},
     "output_type": "execute_result"
    }
   ],
   "source": [
    "# First 10 entries of name\n",
    "df.head(10)"
   ]
  }
 ],
 "metadata": {
  "kernelspec": {
   "display_name": "Python 3 (ipykernel)",
   "language": "python",
   "name": "python3"
  },
  "language_info": {
   "codemirror_mode": {
    "name": "ipython",
    "version": 3
   },
   "file_extension": ".py",
   "mimetype": "text/x-python",
   "name": "python",
   "nbconvert_exporter": "python",
   "pygments_lexer": "ipython3",
   "version": "3.9.12"
  }
 },
 "nbformat": 4,
 "nbformat_minor": 5
}
